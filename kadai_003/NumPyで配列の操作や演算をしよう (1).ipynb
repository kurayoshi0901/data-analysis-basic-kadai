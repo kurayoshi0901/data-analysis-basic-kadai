{
  "nbformat": 4,
  "nbformat_minor": 0,
  "metadata": {
    "colab": {
      "provenance": []
    },
    "kernelspec": {
      "name": "python3",
      "display_name": "Python 3"
    },
    "language_info": {
      "name": "python"
    }
  },
  "cells": [
    {
      "cell_type": "code",
      "execution_count": 5,
      "metadata": {
        "colab": {
          "base_uri": "https://localhost:8080/"
        },
        "id": "gBoEAWlRGQqX",
        "outputId": "21a4a9ac-35ff-4f33-f94e-fa5bc218a501"
      },
      "outputs": [
        {
          "output_type": "stream",
          "name": "stdout",
          "text": [
            "[[ 4  5  6  7]\n",
            " [12 17 22 27]\n",
            " [20 29 38 47]]\n",
            "4\n"
          ]
        }
      ],
      "source": [
        "import numpy as np\n",
        "a = np.array([[0, 1],[2, 3],[4, 5]])\n",
        "b = np.array([[0, 1, 2, 3], [4, 5, 6, 7]])\n",
        "c = np.dot(a, b)\n",
        "print(c)\n",
        "print(c.min())\n"
      ]
    }
  ]
}