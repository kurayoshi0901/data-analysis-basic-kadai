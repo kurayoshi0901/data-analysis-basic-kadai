{
  "nbformat": 4,
  "nbformat_minor": 0,
  "metadata": {
    "colab": {
      "provenance": []
    },
    "kernelspec": {
      "name": "python3",
      "display_name": "Python 3"
    },
    "language_info": {
      "name": "python"
    }
  },
  "cells": [
    {
      "cell_type": "code",
      "execution_count": null,
      "metadata": {
        "colab": {
          "base_uri": "https://localhost:8080/"
        },
        "id": "XCF_3YaNP4WJ",
        "outputId": "c5b91a64-0285-40e2-eb15-613058d49da5"
      },
      "outputs": [
        {
          "output_type": "stream",
          "name": "stdout",
          "text": [
            "2023年05月15日 14時30分\n"
          ]
        }
      ],
      "source": [
        "'''1. strftime\n",
        "次のタイムスタンプを \"YYYY年MM月DD日 HH時MM分\" 形式で表示してください。\n",
        "\n",
        "timestamp = pd.Timestamp('2023-05-15 14:30:00')'''\n",
        "\n",
        "import pandas as pd\n",
        "timestamp = pd.Timestamp('2023-05-15 14:30:00')\n",
        "\n",
        "# strftimeを使ってフォーマットを指定\n",
        "formatted_time = timestamp.strftime('%Y年%m月%d日 %H時%M分')\n",
        "print(formatted_time)"
      ]
    },
    {
      "cell_type": "code",
      "source": [
        "'''2. strptime\n",
        "以下の文字列形式の日付をdatetimeオブジェクトに変換してください。変換にはdatetime.strptimeメソッドを使用してください。\n",
        "\n",
        "date_string = \"2023-04-01 14:30\"\n",
        "変換後、以下の情報を表示してください：\n",
        "\n",
        "年\n",
        "月\n",
        "日\n",
        "時\n",
        "分\n",
        "ヒント：\n",
        "\n",
        "from datetime import datetimeを使用してdatetimeモジュールをインポートします。 strptimeメソッドの第二引数にフォーマット文字列を指定します。'''\n",
        "from datetime import datetime\n",
        "\n",
        "\n",
        "date_string = \"2023-04-01 14:30\"\n",
        "date_obj = datetime.strptime(date_string, \"%Y-%m-%d %H:%M\")\n",
        "\n",
        "# 各要素を表示\n",
        "print(\"年:\", date_obj.year)\n",
        "print(\"月:\", date_obj.month)\n",
        "print(\"日:\", date_obj.day)\n",
        "print(\"時:\", date_obj.hour)\n",
        "print(\"分:\", date_obj.minute)\n"
      ],
      "metadata": {
        "colab": {
          "base_uri": "https://localhost:8080/"
        },
        "id": "rWnq73yrQVJC",
        "outputId": "bdce4fa3-f9c9-4cc2-9a3e-dd969b6d03fb"
      },
      "execution_count": null,
      "outputs": [
        {
          "output_type": "stream",
          "name": "stdout",
          "text": [
            "年: 2023\n",
            "月: 4\n",
            "日: 1\n",
            "時: 14\n",
            "分: 30\n"
          ]
        }
      ]
    },
    {
      "cell_type": "code",
      "source": [
        "''' 集計\n",
        "以下のデータを作成してください。\n",
        "import pandas as pd\n",
        "import numpy as np\n",
        "\n",
        "# サンプルデータの作成\n",
        "np.random.seed(42)\n",
        "data = {\n",
        "    '日付': pd.date_range(start='2023-01-01', end='2023-12-31', freq='D'),\n",
        "    '商品': np.random.choice(['A', 'B', 'C'], size=365),\n",
        "    '地域': np.random.choice(['東京', '大阪', '名古屋'], size=365),\n",
        "    '売上': np.random.randint(1000, 10000, size=365)\n",
        "}\n",
        "\n",
        "df = pd.DataFrame(data)\n",
        "\n",
        "# データの確認\n",
        "print(df.head())\n",
        "集計操作をおこない商品と地域ごとの売上の平均、最大値、最小値を計算してください。\n",
        "\n",
        "'''\n",
        "\n",
        "import pandas as pd\n",
        "import numpy as np\n",
        "\n",
        "np.random.seed(42)\n",
        "data = {\n",
        "    '日付': pd.date_range(start='2023-01-01', end='2023-12-31', freq='D'),\n",
        "    '商品': np.random.choice(['A', 'B', 'C'], size=365),\n",
        "    '地域': np.random.choice(['東京', '大阪', '名古屋'], size=365),\n",
        "    '売上': np.random.randint(1000, 10000, size=365)\n",
        "}\n",
        "\n",
        "df = pd.DataFrame(data)\n",
        "print(df.head())\n",
        "\n",
        "# 商品と地域ごとの売上の平均、最大値、最小値を計算\n",
        "agg_results = df.groupby(['商品', '地域']).agg(\n",
        "    売上平均=('売上', 'mean'),\n",
        "    売上最大=('売上', 'max'),\n",
        "    売上最小=('売上', 'min')\n",
        ").reset_index()\n",
        "print(agg_results)\n"
      ],
      "metadata": {
        "colab": {
          "base_uri": "https://localhost:8080/"
        },
        "id": "eTSsIl8aQ2tI",
        "outputId": "027208cb-e4de-491e-8979-5bb390a266a6"
      },
      "execution_count": null,
      "outputs": [
        {
          "output_type": "stream",
          "name": "stdout",
          "text": [
            "          日付 商品   地域    売上\n",
            "0 2023-01-01  C   大阪  8714\n",
            "1 2023-01-02  A   大阪  4324\n",
            "2 2023-01-03  C  名古屋  6713\n",
            "3 2023-01-04  C   大阪  8026\n",
            "4 2023-01-05  A  名古屋  1255\n",
            "  商品   地域         売上平均  売上最大  売上最小\n",
            "0  A  名古屋  5022.236842  9389  1005\n",
            "1  A   大阪  5590.097561  9702  1009\n",
            "2  A   東京  5375.468085  9554  1224\n",
            "3  B  名古屋  5759.088235  9669  1009\n",
            "4  B   大阪  5453.289474  9427  1249\n",
            "5  B   東京  5542.775000  9865  1345\n",
            "6  C  名古屋  6021.529412  9905  1055\n",
            "7  C   大阪  5770.463415  9989  1232\n",
            "8  C   東京  5388.423077  9795  1077\n"
          ]
        }
      ]
    }
  ]
}