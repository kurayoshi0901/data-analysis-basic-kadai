{
  "nbformat": 4,
  "nbformat_minor": 0,
  "metadata": {
    "colab": {
      "provenance": []
    },
    "kernelspec": {
      "name": "python3",
      "display_name": "Python 3"
    },
    "language_info": {
      "name": "python"
    }
  },
  "cells": [
    {
      "cell_type": "code",
      "execution_count": null,
      "metadata": {
        "colab": {
          "base_uri": "https://localhost:8080/"
        },
        "id": "S3P2ir3D8_iz",
        "outputId": "843bd443-9e4e-4ac8-ebe9-37bf429a0a11"
      },
      "outputs": [
        {
          "output_type": "stream",
          "name": "stdout",
          "text": [
            "   A   B   C\n",
            "0  1  10  11\n",
            "1  2  20  22\n",
            "2  3  30  33\n",
            "3  4  40  44\n",
            "4  5  50  55\n"
          ]
        }
      ],
      "source": [
        "#実践7-1\n",
        "'''pandas の lambda を使って以下のデータを加工したカラムCを作成してください。\n",
        "data = {'A': [1, 2, 3, 4, 5],\n",
        "        'B': [10, 20, 30, 40, 50]}'''\n",
        "\n",
        "import pandas as pd\n",
        "\n",
        "data = {'A': [1, 2, 3, 4, 5],\n",
        "        'B': [10, 20, 30, 40, 50]}\n",
        "\n",
        "df = pd.DataFrame(data)\n",
        "\n",
        "df['C'] = df.apply(lambda row: row['A'] + row['B'], axis=1)\n",
        "print(df)"
      ]
    },
    {
      "cell_type": "code",
      "source": [
        "#実践7-2\n",
        "'''以下のデータに対してdescribeを実行してください\n",
        "data = {'A': [1, 2, 3, 4, 5],\n",
        "      'B': [10, 20, 30, 40, 50]}\n",
        "続いて、describeを利用せずに各項目の値（平均、標準偏差、最小値、25パーセンタイル、中央値、75パーセンタイル、最大値）を算出してください。'''\n",
        "\n",
        "import pandas as pd\n",
        "import numpy as np\n",
        "\n",
        "data = {'A': [1, 2, 3, 4, 5],\n",
        "        'B': [10, 20, 30, 40, 50]}\n",
        "\n",
        "mean_A = df['A'].mean()\n",
        "std_A = df['A'].std()\n",
        "min_A = df['A'].min()\n",
        "percentile_25_A = np.percentile(df['A'], 25)\n",
        "median_A = df['A'].median()\n",
        "percentile_75_A = np.percentile(df['A'], 75)\n",
        "max_A = df['A'].max()\n",
        "\n",
        "mean_B = df['B'].mean()\n",
        "std_B = df['B'].std()\n",
        "min_B = df['B'].min()\n",
        "percentile_25_B = np.percentile(df['B'], 25)\n",
        "median_B = df['B'].median()\n",
        "percentile_75_B = np.percentile(df['B'], 75)\n",
        "max_B = df['B'].max()\n",
        "\n",
        "print(f\"Column A: mean={mean_A}, std={std_A}, min={min_A}, 25%={percentile_25_A}, median={median_A}, 75%={percentile_75_A}, max={max_A}\")\n",
        "print(f\"Column B: mean={mean_B}, std={std_B}, min={min_B}, 25%={percentile_25_B}, median={median_B}, 75%={percentile_75_B}, max={max_B}\")"
      ],
      "metadata": {
        "colab": {
          "base_uri": "https://localhost:8080/"
        },
        "id": "R0y_MHnQAsDg",
        "outputId": "6308fb31-b6ec-4de2-a955-81bd57a0d110"
      },
      "execution_count": null,
      "outputs": [
        {
          "output_type": "stream",
          "name": "stdout",
          "text": [
            "Column A: mean=3.0, std=1.5811388300841898, min=1, 25%=2.0, median=3.0, 75%=4.0, max=5\n",
            "Column B: mean=30.0, std=15.811388300841896, min=10, 25%=20.0, median=30.0, 75%=40.0, max=50\n"
          ]
        }
      ]
    },
    {
      "cell_type": "code",
      "source": [
        "#実践7-3（一部応用）\n",
        "'''まず以下でデータを作成してください。(作成コードに関して、dataframeを作成する過程は非常に実務でも重要ですので参考にしてください)\n",
        "このデータフレームをIDで集約してください。集約する際、日付はカウント、スコアは平均にしてください。\n",
        "集約は課題で利用したgroupbyを参考にしてください。ポイントは日付とスコアで違う集約方法ということです。'''\n",
        "import pandas as pd\n",
        "import numpy as np\n",
        "import random\n",
        "from datetime import datetime, timedelta\n",
        "\n",
        "# 日付範囲を設定\n",
        "start_date = datetime(2022, 1, 1)\n",
        "end_date = start_date + timedelta(days=99)\n",
        "\n",
        "# 日付データを生成\n",
        "date_range = pd.date_range(start=start_date, end=end_date)\n",
        "\n",
        "# idとscoreのデータを生成\n",
        "data = {'day': [],\n",
        "        'id': [],\n",
        "        'score': []}\n",
        "\n",
        "# ランダムなデータを生成\n",
        "for date in date_range:\n",
        "    for _ in range(4):  # idごとに4レコード生成\n",
        "        data['day'].append(date)\n",
        "        data['id'].append(random.choice(['A', 'B', 'C', 'D']))\n",
        "        data['score'].append(random.randint(1, 100))\n",
        "\n",
        "# DataFrameに変換\n",
        "df = pd.DataFrame(data)\n",
        "\n",
        "# 結果を表示\n",
        "print(df)\n",
        "\n",
        "# IDで集約\n",
        "grouped_df = df.groupby('id').agg({\n",
        "    'day': 'count',\n",
        "    'score': 'mean'\n",
        "})\n",
        "grouped_df = grouped_df.reset_index()\n",
        "\n",
        "print(grouped_df)"
      ],
      "metadata": {
        "colab": {
          "base_uri": "https://localhost:8080/"
        },
        "id": "2dJPkxlyBf25",
        "outputId": "80afae7f-7984-4625-ad55-0eca8ce4642b"
      },
      "execution_count": null,
      "outputs": [
        {
          "output_type": "stream",
          "name": "stdout",
          "text": [
            "           day id  score\n",
            "0   2022-01-01  D     13\n",
            "1   2022-01-01  B     87\n",
            "2   2022-01-01  D      2\n",
            "3   2022-01-01  C     41\n",
            "4   2022-01-02  A     40\n",
            "..         ... ..    ...\n",
            "395 2022-04-09  D     13\n",
            "396 2022-04-10  A     82\n",
            "397 2022-04-10  B      6\n",
            "398 2022-04-10  C     16\n",
            "399 2022-04-10  D     12\n",
            "\n",
            "[400 rows x 3 columns]\n",
            "  id  day      score\n",
            "0  A  101  53.623762\n",
            "1  B  118  48.966102\n",
            "2  C   85  52.552941\n",
            "3  D   96  57.041667\n"
          ]
        }
      ]
    },
    {
      "cell_type": "code",
      "source": [
        "#実践7-4\n",
        "'''以下の問題1~5をqueryを用いて解いてください。\n",
        "問題1: 年齢が30歳以上の人のデータを抽出してください。\n",
        "問題2: 都市が'Tokyo'または'Osaka'の人のデータを抽出してください。\n",
        "問題3: 給与が500,000円以上で、年齢が40歳未満の人のデータを抽出してください。\n",
        "問題4: 名前が'A'で始まる人と、給与が700,000円以上の人のデータを抽出してください。（ヒント: startswith）\n",
        "問題5: 名前の文字数が4文字以下で、年齢が25歳以上35歳以下の人のデータを抽出してください。\n",
        "データは以下を用いてください。'''\n",
        "\n",
        "# サンプルデータの作成\n",
        "import pandas as pd\n",
        "import numpy as np\n",
        "\n",
        "# 乱数シード値の設定\n",
        "np.random.seed(123)\n",
        "\n",
        "# データフレームの作成\n",
        "data = {\n",
        "    'name': ['Alice', 'Bob', 'Charlie', 'David', 'Eve', 'Frank', 'Grace', 'Hannah', 'Ivy', 'Jack'],\n",
        "    'age': np.random.randint(20, 61, size=10),\n",
        "    'city': ['Tokyo', 'Osaka', 'Nagoya', 'Fukuoka', 'Sapporo', 'Sendai', 'Hiroshima', 'Kobe', 'Kyoto', 'Yokohama'],\n",
        "    'salary': np.random.randint(300000, 800001, size=10)\n",
        "}\n",
        "\n",
        "df = pd.DataFrame(data)\n",
        "\n",
        "\n",
        "\n",
        "#問題１\n",
        "result1 = df.query('age >= 30')\n",
        "print(result1)\n",
        "\n",
        "#問題2\n",
        "result2 = df.query('city == \"Tokyo\" or city == \"Osaka\"')\n",
        "print()\n",
        "print(result2)\n",
        "\n",
        "#問題３\n",
        "result3 = df.query('salary >= 500000 and age < 40')\n",
        "print()\n",
        "print(result3)\n",
        "\n",
        "#問題４\n",
        "result4 = df.query('name.str.startswith(\"A\") or salary >= 700000')\n",
        "print()\n",
        "print(result4)\n",
        "\n",
        "#問題5\n",
        "result5 = df.query('name.str.len() <= 4 and 25 <= age <= 35', engine='python')\n",
        "print()\n",
        "print(result5)"
      ],
      "metadata": {
        "colab": {
          "base_uri": "https://localhost:8080/"
        },
        "id": "q3y8kE8QFLs8",
        "outputId": "b22e341e-d151-4f4a-9a6a-403f539a3d32"
      },
      "execution_count": null,
      "outputs": [
        {
          "output_type": "stream",
          "name": "stdout",
          "text": [
            "      name  age       city  salary\n",
            "1      Bob   48      Osaka  464782\n",
            "2  Charlie   54     Nagoya  496719\n",
            "3    David   58    Fukuoka  532857\n",
            "4      Eve   37    Sapporo  710963\n",
            "5    Frank   39     Sendai  335662\n",
            "6    Grace   42  Hiroshima  762077\n",
            "7   Hannah   53       Kobe  527748\n",
            "8      Ivy   52      Kyoto  708160\n",
            "\n",
            "    name  age   city  salary\n",
            "0  Alice   22  Tokyo  371200\n",
            "1    Bob   48  Osaka  464782\n",
            "\n",
            "  name  age     city  salary\n",
            "4  Eve   37  Sapporo  710963\n",
            "\n",
            "    name  age       city  salary\n",
            "0  Alice   22      Tokyo  371200\n",
            "4    Eve   37    Sapporo  710963\n",
            "6  Grace   42  Hiroshima  762077\n",
            "8    Ivy   52      Kyoto  708160\n",
            "\n",
            "   name  age      city  salary\n",
            "9  Jack   29  Yokohama  430256\n"
          ]
        }
      ]
    },
    {
      "cell_type": "code",
      "source": [
        "#実践7-5\n",
        "'''上記の問題をquery以外で実現してください'''\n",
        "# サンプルデータの作成\n",
        "import pandas as pd\n",
        "import numpy as np\n",
        "\n",
        "# 乱数シード値の設定\n",
        "np.random.seed(123)\n",
        "\n",
        "# データフレームの作成\n",
        "data = {\n",
        "    'name': ['Alice', 'Bob', 'Charlie', 'David', 'Eve', 'Frank', 'Grace', 'Hannah', 'Ivy', 'Jack'],\n",
        "    'age': np.random.randint(20, 61, size=10),\n",
        "    'city': ['Tokyo', 'Osaka', 'Nagoya', 'Fukuoka', 'Sapporo', 'Sendai', 'Hiroshima', 'Kobe', 'Kyoto', 'Yokohama'],\n",
        "    'salary': np.random.randint(300000, 800001, size=10)\n",
        "}\n",
        "\n",
        "df = pd.DataFrame(data)\n",
        "\n",
        "\n",
        "\n",
        "#問題１\n",
        "result1 = df[df['age'] >= 30]\n",
        "print(result1)\n",
        "\n",
        "#問題2\n",
        "result2 = df[df['city'].isin(['Tokyo', 'Osaka'])]\n",
        "print()\n",
        "print(result2)\n",
        "\n",
        "#問題３\n",
        "result3 = df[(df['salary'] >= 500000) & (df['age'] < 40)]\n",
        "print()\n",
        "print(result3)\n",
        "\n",
        "#問題４\n",
        "result4 = df[(df['name'].str.startswith('A')) | (df['salary'] >= 700000)]\n",
        "print()\n",
        "print(result4)\n",
        "\n",
        "#問題5\n",
        "result5 = df[(df['name'].str.len() <= 4) & (df['age'].between(25, 35))]\n",
        "print()\n",
        "print(result5)"
      ],
      "metadata": {
        "colab": {
          "base_uri": "https://localhost:8080/"
        },
        "id": "LJ4tNeQIKQF_",
        "outputId": "be9c6ffb-fd5c-4bf9-fed7-5565bb4869e7"
      },
      "execution_count": null,
      "outputs": [
        {
          "output_type": "stream",
          "name": "stdout",
          "text": [
            "      name  age       city  salary\n",
            "1      Bob   48      Osaka  464782\n",
            "2  Charlie   54     Nagoya  496719\n",
            "3    David   58    Fukuoka  532857\n",
            "4      Eve   37    Sapporo  710963\n",
            "5    Frank   39     Sendai  335662\n",
            "6    Grace   42  Hiroshima  762077\n",
            "7   Hannah   53       Kobe  527748\n",
            "8      Ivy   52      Kyoto  708160\n",
            "\n",
            "    name  age   city  salary\n",
            "0  Alice   22  Tokyo  371200\n",
            "1    Bob   48  Osaka  464782\n",
            "\n",
            "  name  age     city  salary\n",
            "4  Eve   37  Sapporo  710963\n",
            "\n",
            "    name  age       city  salary\n",
            "0  Alice   22      Tokyo  371200\n",
            "4    Eve   37    Sapporo  710963\n",
            "6  Grace   42  Hiroshima  762077\n",
            "8    Ivy   52      Kyoto  708160\n",
            "\n",
            "   name  age      city  salary\n",
            "9  Jack   29  Yokohama  430256\n"
          ]
        }
      ]
    },
    {
      "cell_type": "code",
      "source": [
        "#実践7-6（応用: 分析の一連のシーケンス）"
      ],
      "metadata": {
        "colab": {
          "base_uri": "https://localhost:8080/"
        },
        "id": "E4jzOXpINUpR",
        "outputId": "8f9fafd1-54fe-41fa-f652-4d1a36d52815"
      },
      "execution_count": null,
      "outputs": [
        {
          "output_type": "stream",
          "name": "stdout",
          "text": [
            "     ID      Name  Age  Salary\n",
            "0     1    Name_1   30   73230\n",
            "1     2    Name_2   28   56003\n",
            "2     3    Name_3   52   73450\n",
            "3     4    Name_4   45   49462\n",
            "4     5    Name_5   55   72970\n",
            "..  ...       ...  ...     ...\n",
            "95   96   Name_96   58   72385\n",
            "96   97   Name_97   57   59341\n",
            "97   98   Name_98   34   33273\n",
            "98   99   Name_99   37   45539\n",
            "99  100  Name_100   57   57414\n",
            "\n",
            "[100 rows x 4 columns]\n"
          ]
        }
      ]
    },
    {
      "cell_type": "code",
      "source": [
        "#実践7-7 (numpy, pandas)\n",
        "'''pandas の dataframe を numpy の ndarray へ変換してください。\n",
        "その逆も実施してください。dataframe から numpy への変換は調査してみてください。'''\n",
        "import pandas as pd\n",
        "import numpy as np\n",
        "\n",
        "# サンプルデータを作成\n",
        "data = {\n",
        "    'A': [1, 2, 3, 4, 5],\n",
        "    'B': [10, 20, 30, 40, 50]\n",
        "}\n",
        "df = pd.DataFrame(data)\n",
        "\n",
        "array = df.values\n",
        "\n",
        "print(\"DataFrame:\")\n",
        "print(df)\n",
        "print(\"\\nNumPyのndarray:\")\n",
        "print(array)\n",
        "\n",
        "\n",
        "df_from_array = pd.DataFrame(array, columns=['A', 'B'])\n",
        "\n",
        "print(\"\\nNumPyのndarrayから作成したDataFrame:\")\n",
        "print(df_from_array)"
      ],
      "metadata": {
        "colab": {
          "base_uri": "https://localhost:8080/"
        },
        "id": "sx-xmpR6P4-Y",
        "outputId": "ba9e76d6-d628-44ce-c396-6e651e59c8f9"
      },
      "execution_count": null,
      "outputs": [
        {
          "output_type": "stream",
          "name": "stdout",
          "text": [
            "DataFrame:\n",
            "   A   B\n",
            "0  1  10\n",
            "1  2  20\n",
            "2  3  30\n",
            "3  4  40\n",
            "4  5  50\n",
            "\n",
            "NumPyのndarray:\n",
            "[[ 1 10]\n",
            " [ 2 20]\n",
            " [ 3 30]\n",
            " [ 4 40]\n",
            " [ 5 50]]\n",
            "\n",
            "NumPyのndarrayから作成したDataFrame:\n",
            "   A   B\n",
            "0  1  10\n",
            "1  2  20\n",
            "2  3  30\n",
            "3  4  40\n",
            "4  5  50\n"
          ]
        }
      ]
    },
    {
      "cell_type": "code",
      "source": [
        "#実践7-8 (read_csv)\n",
        "'''pd.read_csvでcsvファイルを読み込む際、カラムの型をdtypeで指定できます。実際に指定して読み込んでください。\n",
        "\n",
        "例: df = pd.read_csv(csv_file, dtype=dtype_dict)\n",
        "\n",
        "上記のdtype_dictを辞書型で指定する。一部調査してみてください。実務ではdtypeの指定は頻繁に利用します。\n",
        "参考) pandasで指定する一般的な型\n",
        "\n",
        "int64: 整数型 float64: 浮動小数点型 bool: 真理値型 object: 文字列型 datetime64 または timedelta[ns]: 日時型\n",
        "# カラムごとにデータ型を指定してCSVファイルを読み込む\n",
        "# dtypeを指定することで、各列のデータ型を明示的に設定できる'''\n",
        "\n",
        "\n",
        "dtype = {\n",
        "    'ID': 'int',       # 整数型\n",
        "    'Name': 'str',     # 文字列型\n",
        "    'Age': 'int',      # 整数型\n",
        "    'Salary': 'float'  # 浮動小数点型\n",
        "}\n",
        "\n",
        "df = pd.read_csv(csv_file, dtype=dtype)\n",
        "print(df)"
      ],
      "metadata": {
        "id": "vqINnrQBdWST"
      },
      "execution_count": null,
      "outputs": []
    },
    {
      "cell_type": "code",
      "source": [
        "#実践7-9(None)\n",
        "'''pandasでNone/np.nanを含むdataframeを定義してください。\n",
        "そのdataframeを利用し、queryとdf[df[””]=...]のどちらでもNone/np.nanを含むレコードのみを抽出してください。\n",
        " (単純に実施してもqueryではフィルタリングできません。調査してみてください。)'''\n",
        "import pandas as pd\n",
        "import numpy as np\n",
        "\n",
        "data = {\n",
        "    'A': [1, None, 3, 4, 5],\n",
        "    'B': [10, 20, None, 40, 50],\n",
        "    'C': [100, 200, 300, None, 500]\n",
        "}\n",
        "\n",
        "df = pd.DataFrame(data)\n",
        "\n",
        "print(\"DataFrame:\")\n",
        "print(df)\n",
        "\n",
        "filtered_query = df.query('A == A and B == B and C == C')\n",
        "print()\n",
        "print(filtered_query)\n",
        "print()\n",
        "\n",
        "filtered_indexing = df[df.isna().any(axis=1)]\n",
        "print(filtered_indexing)"
      ],
      "metadata": {
        "id": "R9SYRABodXVo",
        "colab": {
          "base_uri": "https://localhost:8080/"
        },
        "outputId": "bcfdb046-f39b-4e48-9bba-88b92a87ae7d"
      },
      "execution_count": null,
      "outputs": [
        {
          "output_type": "stream",
          "name": "stdout",
          "text": [
            "DataFrame:\n",
            "     A     B      C\n",
            "0  1.0  10.0  100.0\n",
            "1  NaN  20.0  200.0\n",
            "2  3.0   NaN  300.0\n",
            "3  4.0  40.0    NaN\n",
            "4  5.0  50.0  500.0\n",
            "\n",
            "     A     B      C\n",
            "0  1.0  10.0  100.0\n",
            "4  5.0  50.0  500.0\n",
            "\n",
            "     A     B      C\n",
            "1  NaN  20.0  200.0\n",
            "2  3.0   NaN  300.0\n",
            "3  4.0  40.0    NaN\n"
          ]
        }
      ]
    },
    {
      "cell_type": "code",
      "source": [
        "#実践7-10(クロス集計): 応用\n",
        "'''(テキスト外) pandasの機能であるcrosstabを調査してみましょう。本機能で何ができるか確認し説明してください。\n",
        "crosstab: https://pandas.pydata.org/docs/reference/api/pandas.crosstab.html\n",
        "(応用: 余力があれば)上記のクロス集計結果を実施しSeabornのheatmapで可視化してください。'''\n",
        "\n",
        "pandasのcrosstab関数は、クロス集計（クロスタブ）を行うための機能\n",
        "。クロス集計は、2つ以上のカテゴリ変数（質的データ）の組み合わせにおいて、クロス集計表を作成することで、\n",
        "それぞれのカテゴリ変数の組み合わせに対する度数や集計結果を見ることができます。\n"
      ],
      "metadata": {
        "id": "z551CWuVdcWa"
      },
      "execution_count": null,
      "outputs": []
    }
  ]
}